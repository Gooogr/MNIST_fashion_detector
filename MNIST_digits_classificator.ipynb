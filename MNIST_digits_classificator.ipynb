{
  "nbformat": 4,
  "nbformat_minor": 0,
  "metadata": {
    "colab": {
      "name": "MNIST digits classificator.ipynb",
      "provenance": [],
      "collapsed_sections": [],
      "include_colab_link": true
    },
    "kernelspec": {
      "name": "python3",
      "display_name": "Python 3"
    },
    "accelerator": "GPU"
  },
  "cells": [
    {
      "cell_type": "markdown",
      "metadata": {
        "id": "view-in-github",
        "colab_type": "text"
      },
      "source": [
        "<a href=\"https://colab.research.google.com/github/Gooogr/Keras_MNIST_Deploying/blob/master/MNIST_digits_classificator.ipynb\" target=\"_parent\"><img src=\"https://colab.research.google.com/assets/colab-badge.svg\" alt=\"Open In Colab\"/></a>"
      ]
    },
    {
      "cell_type": "code",
      "metadata": {
        "id": "tIaEXPy89u5Z",
        "colab_type": "code",
        "colab": {}
      },
      "source": [
        "from keras.datasets import mnist\n",
        "from keras import models\n",
        "from keras import layers\n",
        "from keras.utils import to_categorical \n",
        "\n",
        "import matplotlib.pyplot as plt\n",
        "from google.colab.patches import cv2_imshow\n",
        "\n",
        "import numpy as np\n",
        "\n",
        "import os"
      ],
      "execution_count": 0,
      "outputs": []
    },
    {
      "cell_type": "code",
      "metadata": {
        "id": "lwIK4Z3yDhdE",
        "colab_type": "code",
        "colab": {}
      },
      "source": [
        "CLASS_NUM = 10\n",
        "BATCH_SIZE = 128\n",
        "EPOCHS_NUM = 15"
      ],
      "execution_count": 0,
      "outputs": []
    },
    {
      "cell_type": "code",
      "metadata": {
        "id": "QXGUvgRtIFq8",
        "colab_type": "code",
        "outputId": "7c6da6ed-cc7d-4aba-9eba-44def06b7184",
        "colab": {
          "base_uri": "https://localhost:8080/",
          "height": 122
        }
      },
      "source": [
        "from google.colab import drive\n",
        "drive.mount('/content/drive')"
      ],
      "execution_count": 0,
      "outputs": [
        {
          "output_type": "stream",
          "text": [
            "Go to this URL in a browser: https://accounts.google.com/o/oauth2/auth?client_id=947318989803-6bn6qk8qdgf4n4g3pfee6491hc0brc4i.apps.googleusercontent.com&redirect_uri=urn%3Aietf%3Awg%3Aoauth%3A2.0%3Aoob&scope=email%20https%3A%2F%2Fwww.googleapis.com%2Fauth%2Fdocs.test%20https%3A%2F%2Fwww.googleapis.com%2Fauth%2Fdrive%20https%3A%2F%2Fwww.googleapis.com%2Fauth%2Fdrive.photos.readonly%20https%3A%2F%2Fwww.googleapis.com%2Fauth%2Fpeopleapi.readonly&response_type=code\n",
            "\n",
            "Enter your authorization code:\n",
            "··········\n",
            "Mounted at /content/drive\n"
          ],
          "name": "stdout"
        }
      ]
    },
    {
      "cell_type": "code",
      "metadata": {
        "id": "jiLzDm_0KC_u",
        "colab_type": "code",
        "colab": {}
      },
      "source": [
        "dir_path = '/content/drive/My Drive/colab_notebooks/Keras_MNIST_Classification'"
      ],
      "execution_count": 0,
      "outputs": []
    },
    {
      "cell_type": "markdown",
      "metadata": {
        "id": "bJaqyuAuCh2Z",
        "colab_type": "text"
      },
      "source": [
        "**Load data**"
      ]
    },
    {
      "cell_type": "code",
      "metadata": {
        "id": "y2HmkOou958N",
        "colab_type": "code",
        "outputId": "7f13d79e-7111-4dd1-e5a5-b74c07223fcc",
        "colab": {
          "base_uri": "https://localhost:8080/",
          "height": 51
        }
      },
      "source": [
        "(train_images, train_labels), (test_images, test_labels) = mnist.load_data()"
      ],
      "execution_count": 0,
      "outputs": [
        {
          "output_type": "stream",
          "text": [
            "Downloading data from https://s3.amazonaws.com/img-datasets/mnist.npz\n",
            "11493376/11490434 [==============================] - 0s 0us/step\n"
          ],
          "name": "stdout"
        }
      ]
    },
    {
      "cell_type": "code",
      "metadata": {
        "id": "ofiuaaVUB4Lb",
        "colab_type": "code",
        "outputId": "9f778fef-2d1f-42da-8fa9-ef3e60b93165",
        "colab": {
          "base_uri": "https://localhost:8080/",
          "height": 51
        }
      },
      "source": [
        "print(train_images.shape, train_labels.shape)\n",
        "print(test_images.shape, test_labels.shape)"
      ],
      "execution_count": 0,
      "outputs": [
        {
          "output_type": "stream",
          "text": [
            "(60000, 28, 28) (60000,)\n",
            "(10000, 28, 28) (10000,)\n"
          ],
          "name": "stdout"
        }
      ]
    },
    {
      "cell_type": "code",
      "metadata": {
        "id": "lgZVkuff_P5Q",
        "colab_type": "code",
        "outputId": "5d348f29-b511-451d-8880-b46c5a63cbfd",
        "colab": {
          "base_uri": "https://localhost:8080/",
          "height": 45
        }
      },
      "source": [
        "cv2_imshow(train_images[1, :, :])"
      ],
      "execution_count": 0,
      "outputs": [
        {
          "output_type": "display_data",
          "data": {
            "image/png": "[encoded data removed]",
            "text/plain": [
              "<PIL.Image.Image image mode=L size=28x28 at 0x7FBC9A1135C0>"
            ]
          },
          "metadata": {
            "tags": []
          }
        }
      ]
    },
    {
      "cell_type": "code",
      "metadata": {
        "id": "-0Ot50cB_TjO",
        "colab_type": "code",
        "outputId": "d439ed8d-bb17-4136-ed95-ae5fb3d836d0",
        "colab": {
          "base_uri": "https://localhost:8080/",
          "height": 269
        }
      },
      "source": [
        "plt.imshow(train_images[1, :, :])\n",
        "plt.show()"
      ],
      "execution_count": 0,
      "outputs": [
        {
          "output_type": "display_data",
          "data": {
            "image/png": "[encoded data removed]",
            "text/plain": [
              "<Figure size 432x288 with 1 Axes>"
            ]
          },
          "metadata": {
            "tags": []
          }
        }
      ]
    },
    {
      "cell_type": "markdown",
      "metadata": {
        "id": "QK6FrTytCpzt",
        "colab_type": "text"
      },
      "source": [
        "**Prepare data**"
      ]
    },
    {
      "cell_type": "code",
      "metadata": {
        "id": "dPfQn588BZ34",
        "colab_type": "code",
        "colab": {}
      },
      "source": [
        "# Reshape data for model input\n",
        "X_train = np.reshape(train_images, (60000, 28, 28, 1)).astype('float32')\n",
        "X_test = np.reshape(test_images, (10000, 28, 28, 1)).astype('float32')\n",
        "\n",
        "#scale data\n",
        "X_train /= 255\n",
        "X_test /= 255\n",
        "\n",
        "#labels one-hot encoding\n",
        "y_train = to_categorical(train_labels)\n",
        "y_test = to_categorical(test_labels)"
      ],
      "execution_count": 0,
      "outputs": []
    },
    {
      "cell_type": "markdown",
      "metadata": {
        "id": "BAMk52uJEY1o",
        "colab_type": "text"
      },
      "source": [
        "**Set up model**"
      ]
    },
    {
      "cell_type": "code",
      "metadata": {
        "id": "0kTFeUq_Ea4e",
        "colab_type": "code",
        "colab": {}
      },
      "source": [
        "model = models.Sequential()\n",
        "\n",
        "model.add(layers.Conv2D(32, kernel_size=(3, 3),\n",
        "                 activation='relu',\n",
        "                 input_shape=(28, 28, 1)))\n",
        "model.add(layers.Conv2D(64, (3, 3), activation='relu'))\n",
        "model.add(layers.MaxPooling2D(pool_size=(2, 2)))\n",
        "model.add(layers.Dropout(0.25))\n",
        "model.add(layers.Flatten())\n",
        "model.add(layers.Dense(128, activation='relu'))\n",
        "model.add(layers.Dropout(0.5))\n",
        "model.add(layers.Dense(CLASS_NUM, activation='softmax'))\n",
        "\n",
        "model.compile(loss = 'categorical_crossentropy',\n",
        "             optimizer = 'adam',\n",
        "             metrics = ['accuracy'])"
      ],
      "execution_count": 0,
      "outputs": []
    },
    {
      "cell_type": "code",
      "metadata": {
        "id": "SL-SAGk8E8zf",
        "colab_type": "code",
        "outputId": "6977c869-24de-4ba5-d000-598dc2aea4ff",
        "colab": {
          "base_uri": "https://localhost:8080/",
          "height": 904
        }
      },
      "source": [
        "model.fit(X_train, y_train, \n",
        "         batch_size = BATCH_SIZE,\n",
        "         epochs = EPOCHS_NUM,\n",
        "         verbose = 1,\n",
        "         validation_data = (X_test, y_test))"
      ],
      "execution_count": 0,
      "outputs": [
        {
          "output_type": "stream",
          "text": [
            "WARNING:tensorflow:From /usr/local/lib/python3.6/dist-packages/tensorflow_core/python/ops/math_grad.py:1424: where (from tensorflow.python.ops.array_ops) is deprecated and will be removed in a future version.\n",
            "Instructions for updating:\n",
            "Use tf.where in 2.0, which has the same broadcast rule as np.where\n",
            "WARNING:tensorflow:From /usr/local/lib/python3.6/dist-packages/keras/backend/tensorflow_backend.py:1033: The name tf.assign_add is deprecated. Please use tf.compat.v1.assign_add instead.\n",
            "\n",
            "WARNING:tensorflow:From /usr/local/lib/python3.6/dist-packages/keras/backend/tensorflow_backend.py:1020: The name tf.assign is deprecated. Please use tf.compat.v1.assign instead.\n",
            "\n",
            "WARNING:tensorflow:From /usr/local/lib/python3.6/dist-packages/keras/backend/tensorflow_backend.py:3005: The name tf.Session is deprecated. Please use tf.compat.v1.Session instead.\n",
            "\n",
            "Train on 60000 samples, validate on 10000 samples\n",
            "Epoch 1/15\n",
            "WARNING:tensorflow:From /usr/local/lib/python3.6/dist-packages/keras/backend/tensorflow_backend.py:190: The name tf.get_default_session is deprecated. Please use tf.compat.v1.get_default_session instead.\n",
            "\n",
            "WARNING:tensorflow:From /usr/local/lib/python3.6/dist-packages/keras/backend/tensorflow_backend.py:197: The name tf.ConfigProto is deprecated. Please use tf.compat.v1.ConfigProto instead.\n",
            "\n",
            "WARNING:tensorflow:From /usr/local/lib/python3.6/dist-packages/keras/backend/tensorflow_backend.py:207: The name tf.global_variables is deprecated. Please use tf.compat.v1.global_variables instead.\n",
            "\n",
            "WARNING:tensorflow:From /usr/local/lib/python3.6/dist-packages/keras/backend/tensorflow_backend.py:216: The name tf.is_variable_initialized is deprecated. Please use tf.compat.v1.is_variable_initialized instead.\n",
            "\n",
            "WARNING:tensorflow:From /usr/local/lib/python3.6/dist-packages/keras/backend/tensorflow_backend.py:223: The name tf.variables_initializer is deprecated. Please use tf.compat.v1.variables_initializer instead.\n",
            "\n",
            "60000/60000 [==============================] - 17s 277us/step - loss: 0.2459 - acc: 0.9260 - val_loss: 0.0614 - val_acc: 0.9802\n",
            "Epoch 2/15\n",
            "60000/60000 [==============================] - 9s 145us/step - loss: 0.0890 - acc: 0.9731 - val_loss: 0.0422 - val_acc: 0.9862\n",
            "Epoch 3/15\n",
            "60000/60000 [==============================] - 9s 142us/step - loss: 0.0662 - acc: 0.9802 - val_loss: 0.0342 - val_acc: 0.9892\n",
            "Epoch 4/15\n",
            "60000/60000 [==============================] - 9s 143us/step - loss: 0.0535 - acc: 0.9841 - val_loss: 0.0330 - val_acc: 0.9882\n",
            "Epoch 5/15\n",
            "60000/60000 [==============================] - 9s 143us/step - loss: 0.0461 - acc: 0.9853 - val_loss: 0.0293 - val_acc: 0.9904\n",
            "Epoch 6/15\n",
            "60000/60000 [==============================] - 9s 142us/step - loss: 0.0378 - acc: 0.9879 - val_loss: 0.0289 - val_acc: 0.9909\n",
            "Epoch 7/15\n",
            "60000/60000 [==============================] - 9s 143us/step - loss: 0.0318 - acc: 0.9894 - val_loss: 0.0301 - val_acc: 0.9905\n",
            "Epoch 8/15\n",
            "60000/60000 [==============================] - 9s 143us/step - loss: 0.0316 - acc: 0.9895 - val_loss: 0.0288 - val_acc: 0.9912\n",
            "Epoch 9/15\n",
            "60000/60000 [==============================] - 9s 142us/step - loss: 0.0265 - acc: 0.9913 - val_loss: 0.0322 - val_acc: 0.9913\n",
            "Epoch 10/15\n",
            "60000/60000 [==============================] - 9s 142us/step - loss: 0.0254 - acc: 0.9914 - val_loss: 0.0322 - val_acc: 0.9909\n",
            "Epoch 11/15\n",
            "60000/60000 [==============================] - 9s 142us/step - loss: 0.0223 - acc: 0.9922 - val_loss: 0.0288 - val_acc: 0.9919\n",
            "Epoch 12/15\n",
            "60000/60000 [==============================] - 9s 142us/step - loss: 0.0209 - acc: 0.9928 - val_loss: 0.0319 - val_acc: 0.9909\n",
            "Epoch 13/15\n",
            "60000/60000 [==============================] - 9s 142us/step - loss: 0.0197 - acc: 0.9936 - val_loss: 0.0304 - val_acc: 0.9919\n",
            "Epoch 14/15\n",
            "60000/60000 [==============================] - 9s 142us/step - loss: 0.0189 - acc: 0.9933 - val_loss: 0.0304 - val_acc: 0.9924\n",
            "Epoch 15/15\n",
            "60000/60000 [==============================] - 9s 142us/step - loss: 0.0171 - acc: 0.9941 - val_loss: 0.0292 - val_acc: 0.9923\n"
          ],
          "name": "stdout"
        },
        {
          "output_type": "execute_result",
          "data": {
            "text/plain": [
              "<keras.callbacks.History at 0x7fbc88930978>"
            ]
          },
          "metadata": {
            "tags": []
          },
          "execution_count": 33
        }
      ]
    },
    {
      "cell_type": "markdown",
      "metadata": {
        "id": "xublLXsPJmgA",
        "colab_type": "text"
      },
      "source": [
        "**Save results**"
      ]
    },
    {
      "cell_type": "code",
      "metadata": {
        "id": "yJMMoL5NGhM-",
        "colab_type": "code",
        "colab": {}
      },
      "source": [
        "model_json = model.to_json()\n",
        "\n",
        "with open(os.path.join(dir_path, 'mnist_digit_model.json'), 'w') as json_file:\n",
        "  json_file.write(model_json)\n",
        "  \n",
        "model.save(os.path.join(dir_path, 'mnist_digit_model.h5'))"
      ],
      "execution_count": 0,
      "outputs": []
    },
    {
      "cell_type": "markdown",
      "metadata": {
        "id": "AttRc-RMLC2z",
        "colab_type": "text"
      },
      "source": [
        "**Plots**"
      ]
    },
    {
      "cell_type": "code",
      "metadata": {
        "id": "Ls7npUutF0ZO",
        "colab_type": "code",
        "outputId": "07594a18-1352-45b5-e060-52ea3e445f9d",
        "colab": {
          "base_uri": "https://localhost:8080/",
          "height": 521
        }
      },
      "source": [
        "acc = model.history.history['acc']\n",
        "val_acc = model.history.history['val_acc']\n",
        "\n",
        "loss = model.history.history['loss']\n",
        "val_loss = model.history.history['val_loss']\n",
        "\n",
        "epochs = np.arange(1, EPOCHS_NUM + 1)\n",
        "\n",
        "plt.figure()\n",
        "plt.plot(epochs, acc, label = 'Training acc')\n",
        "plt.plot(epochs, val_acc, 'o', label = 'Validation acc')\n",
        "plt.legend()\n",
        "plt.show()\n",
        "\n",
        "plt.figure()\n",
        "plt.plot(epochs, loss, label = 'Training loss')\n",
        "plt.plot(epochs, val_loss, 'o', label = 'Validation loss')\n",
        "plt.legend()\n",
        "plt.show()"
      ],
      "execution_count": 0,
      "outputs": [
        {
          "output_type": "display_data",
          "data": {
            "image/png": "[encoded data removed]",
            "text/plain": [
              "<Figure size 432x288 with 1 Axes>"
            ]
          },
          "metadata": {
            "tags": []
          }
        },
        {
          "output_type": "display_data",
          "data": {
            "image/png": "[encoded data removed]",
            "text/plain": [
              "<Figure size 432x288 with 1 Axes>"
            ]
          },
          "metadata": {
            "tags": []
          }
        }
      ]
    },
    {
      "cell_type": "markdown",
      "metadata": {
        "id": "noSLAPIULKJB",
        "colab_type": "text"
      },
      "source": [
        "**Prediction example**"
      ]
    },
    {
      "cell_type": "code",
      "metadata": {
        "id": "qWmH5cy5ICX0",
        "colab_type": "code",
        "outputId": "041307a5-c185-4d38-a22a-814de8de92d1",
        "colab": {
          "base_uri": "https://localhost:8080/",
          "height": 269
        }
      },
      "source": [
        "test_object = train_images[5, :, :]\n",
        "plt.imshow(test_object)\n",
        "plt.show()"
      ],
      "execution_count": 0,
      "outputs": [
        {
          "output_type": "display_data",
          "data": {
            "image/png": "[encoded data removed]",
            "text/plain": [
              "<Figure size 432x288 with 1 Axes>"
            ]
          },
          "metadata": {
            "tags": []
          }
        }
      ]
    },
    {
      "cell_type": "code",
      "metadata": {
        "id": "rSUDBlikGZig",
        "colab_type": "code",
        "outputId": "5a57bcef-a303-47f9-e647-f83199658d70",
        "colab": {
          "base_uri": "https://localhost:8080/",
          "height": 34
        }
      },
      "source": [
        "test_object = test_object.reshape(1, 28, 28, 1)\n",
        "predictions = model.predict(test_object)\n",
        "predict = np.argmax(predictions)\n",
        "print('Model prediction:', predict)"
      ],
      "execution_count": 0,
      "outputs": [
        {
          "output_type": "stream",
          "text": [
            "Model prediction: 2\n"
          ],
          "name": "stdout"
        }
      ]
    },
    {
      "cell_type": "code",
      "metadata": {
        "id": "DKMZDuWjLQVX",
        "colab_type": "code",
        "colab": {}
      },
      "source": [
        ""
      ],
      "execution_count": 0,
      "outputs": []
    }
  ]
}