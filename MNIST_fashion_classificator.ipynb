{
  "nbformat": 4,
  "nbformat_minor": 0,
  "metadata": {
    "colab": {
      "name": " MNIST fashion classificator.ipynb",
      "provenance": [],
      "collapsed_sections": [],
      "include_colab_link": true
    },
    "kernelspec": {
      "name": "python3",
      "display_name": "Python 3"
    },
    "accelerator": "GPU"
  },
  "cells": [
    {
      "cell_type": "markdown",
      "metadata": {
        "id": "view-in-github",
        "colab_type": "text"
      },
      "source": [
        "<a href=\"https://colab.research.google.com/github/Gooogr/Keras_MNIST_Deploying/blob/master/MNIST_fashion_classificator.ipynb\" target=\"_parent\"><img src=\"https://colab.research.google.com/assets/colab-badge.svg\" alt=\"Open In Colab\"/></a>"
      ]
    },
    {
      "cell_type": "code",
      "metadata": {
        "id": "tIaEXPy89u5Z",
        "colab_type": "code",
        "outputId": "51e84aa3-0df7-4be3-da80-eede277793a8",
        "colab": {
          "base_uri": "https://localhost:8080/",
          "height": 34
        }
      },
      "source": [
        "from keras.datasets import fashion_mnist\n",
        "from keras import models\n",
        "from keras import layers\n",
        "from keras.utils import to_categorical \n",
        "\n",
        "import matplotlib.pyplot as plt\n",
        "from google.colab.patches import cv2_imshow\n",
        "\n",
        "import numpy as np\n",
        "\n",
        "import os"
      ],
      "execution_count": 0,
      "outputs": [
        {
          "output_type": "stream",
          "text": [
            "Using TensorFlow backend.\n"
          ],
          "name": "stderr"
        }
      ]
    },
    {
      "cell_type": "code",
      "metadata": {
        "id": "lwIK4Z3yDhdE",
        "colab_type": "code",
        "colab": {}
      },
      "source": [
        "CLASS_NUM = 10\n",
        "BATCH_SIZE = 128\n",
        "EPOCHS_NUM = 15"
      ],
      "execution_count": 0,
      "outputs": []
    },
    {
      "cell_type": "code",
      "metadata": {
        "id": "QXGUvgRtIFq8",
        "colab_type": "code",
        "outputId": "68596ba4-dbb9-440f-8fb0-8e825fb246e2",
        "colab": {
          "base_uri": "https://localhost:8080/",
          "height": 122
        }
      },
      "source": [
        "from google.colab import drive\n",
        "drive.mount('/content/drive')"
      ],
      "execution_count": 0,
      "outputs": [
        {
          "output_type": "stream",
          "text": [
            "Go to this URL in a browser: https://accounts.google.com/o/oauth2/auth?client_id=947318989803-6bn6qk8qdgf4n4g3pfee6491hc0brc4i.apps.googleusercontent.com&redirect_uri=urn%3Aietf%3Awg%3Aoauth%3A2.0%3Aoob&scope=email%20https%3A%2F%2Fwww.googleapis.com%2Fauth%2Fdocs.test%20https%3A%2F%2Fwww.googleapis.com%2Fauth%2Fdrive%20https%3A%2F%2Fwww.googleapis.com%2Fauth%2Fdrive.photos.readonly%20https%3A%2F%2Fwww.googleapis.com%2Fauth%2Fpeopleapi.readonly&response_type=code\n",
            "\n",
            "Enter your authorization code:\n",
            "··········\n",
            "Mounted at /content/drive\n"
          ],
          "name": "stdout"
        }
      ]
    },
    {
      "cell_type": "code",
      "metadata": {
        "id": "jiLzDm_0KC_u",
        "colab_type": "code",
        "colab": {}
      },
      "source": [
        "dir_path = '/content/drive/My Drive/colab_notebooks/Keras_MNIST_Classification'"
      ],
      "execution_count": 0,
      "outputs": []
    },
    {
      "cell_type": "markdown",
      "metadata": {
        "id": "bJaqyuAuCh2Z",
        "colab_type": "text"
      },
      "source": [
        "**Load data**"
      ]
    },
    {
      "cell_type": "code",
      "metadata": {
        "id": "y2HmkOou958N",
        "colab_type": "code",
        "outputId": "05a8c31e-783a-4211-97e5-66529007e6f3",
        "colab": {
          "base_uri": "https://localhost:8080/",
          "height": 153
        }
      },
      "source": [
        "(train_images, train_labels), (test_images, test_labels) = fashion_mnist.load_data()"
      ],
      "execution_count": 0,
      "outputs": [
        {
          "output_type": "stream",
          "text": [
            "Downloading data from http://fashion-mnist.s3-website.eu-central-1.amazonaws.com/train-labels-idx1-ubyte.gz\n",
            "32768/29515 [=================================] - 0s 3us/step\n",
            "Downloading data from http://fashion-mnist.s3-website.eu-central-1.amazonaws.com/train-images-idx3-ubyte.gz\n",
            "26427392/26421880 [==============================] - 1s 0us/step\n",
            "Downloading data from http://fashion-mnist.s3-website.eu-central-1.amazonaws.com/t10k-labels-idx1-ubyte.gz\n",
            "8192/5148 [===============================================] - 0s 0us/step\n",
            "Downloading data from http://fashion-mnist.s3-website.eu-central-1.amazonaws.com/t10k-images-idx3-ubyte.gz\n",
            "4423680/4422102 [==============================] - 1s 0us/step\n"
          ],
          "name": "stdout"
        }
      ]
    },
    {
      "cell_type": "code",
      "metadata": {
        "id": "ofiuaaVUB4Lb",
        "colab_type": "code",
        "outputId": "83662f08-af52-4f50-a332-42e63dd0ec96",
        "colab": {
          "base_uri": "https://localhost:8080/",
          "height": 51
        }
      },
      "source": [
        "print(train_images.shape, train_labels.shape)\n",
        "print(test_images.shape, test_labels.shape)"
      ],
      "execution_count": 0,
      "outputs": [
        {
          "output_type": "stream",
          "text": [
            "(60000, 28, 28) (60000,)\n",
            "(10000, 28, 28) (10000,)\n"
          ],
          "name": "stdout"
        }
      ]
    },
    {
      "cell_type": "code",
      "metadata": {
        "id": "-0Ot50cB_TjO",
        "colab_type": "code",
        "outputId": "ce973416-f853-4478-b4f6-3844774a30a7",
        "colab": {
          "base_uri": "https://localhost:8080/",
          "height": 269
        }
      },
      "source": [
        "plt.imshow(train_images[1, :, :], 'gray')\n",
        "plt.show()"
      ],
      "execution_count": 0,
      "outputs": [
        {
          "output_type": "display_data",
          "data": {
            "image/png": "[encoded data removed]",
            "text/plain": [
              "<Figure size 432x288 with 1 Axes>"
            ]
          },
          "metadata": {
            "tags": []
          }
        }
      ]
    },
    {
      "cell_type": "markdown",
      "metadata": {
        "id": "QK6FrTytCpzt",
        "colab_type": "text"
      },
      "source": [
        "**Prepare data**"
      ]
    },
    {
      "cell_type": "code",
      "metadata": {
        "id": "dPfQn588BZ34",
        "colab_type": "code",
        "colab": {}
      },
      "source": [
        "# Reshape data for model input\n",
        "X_train = np.reshape(train_images, (60000, 28, 28, 1)).astype('float32')\n",
        "X_test = np.reshape(test_images, (10000, 28, 28, 1)).astype('float32')\n",
        "\n",
        "#scale data\n",
        "X_train /= 255\n",
        "X_test /= 255\n",
        "\n",
        "#labels one-hot encoding\n",
        "y_train = to_categorical(train_labels)\n",
        "y_test = to_categorical(test_labels)"
      ],
      "execution_count": 0,
      "outputs": []
    },
    {
      "cell_type": "markdown",
      "metadata": {
        "id": "BAMk52uJEY1o",
        "colab_type": "text"
      },
      "source": [
        "**Set up model**"
      ]
    },
    {
      "cell_type": "code",
      "metadata": {
        "id": "0kTFeUq_Ea4e",
        "colab_type": "code",
        "outputId": "82d94444-1e2e-4b10-b7c8-44568b0fda47",
        "colab": {
          "base_uri": "https://localhost:8080/",
          "height": 326
        }
      },
      "source": [
        "model = models.Sequential()\n",
        "\n",
        "model.add(layers.Conv2D(32, kernel_size=(3, 3),\n",
        "                 activation='relu',\n",
        "                 input_shape=(28, 28, 1)))\n",
        "model.add(layers.Conv2D(64, (3, 3), activation='relu'))\n",
        "model.add(layers.MaxPooling2D(pool_size=(2, 2)))\n",
        "model.add(layers.Dropout(0.25))\n",
        "model.add(layers.Flatten())\n",
        "model.add(layers.Dense(128, activation='relu'))\n",
        "model.add(layers.Dropout(0.5))\n",
        "model.add(layers.Dense(CLASS_NUM, activation='softmax'))\n",
        "\n",
        "model.compile(loss = 'categorical_crossentropy',\n",
        "             optimizer = 'adam',\n",
        "             metrics = ['accuracy'])"
      ],
      "execution_count": 0,
      "outputs": [
        {
          "output_type": "stream",
          "text": [
            "WARNING:tensorflow:From /usr/local/lib/python3.6/dist-packages/keras/backend/tensorflow_backend.py:66: The name tf.get_default_graph is deprecated. Please use tf.compat.v1.get_default_graph instead.\n",
            "\n",
            "WARNING:tensorflow:From /usr/local/lib/python3.6/dist-packages/keras/backend/tensorflow_backend.py:541: The name tf.placeholder is deprecated. Please use tf.compat.v1.placeholder instead.\n",
            "\n",
            "WARNING:tensorflow:From /usr/local/lib/python3.6/dist-packages/keras/backend/tensorflow_backend.py:4432: The name tf.random_uniform is deprecated. Please use tf.random.uniform instead.\n",
            "\n",
            "WARNING:tensorflow:From /usr/local/lib/python3.6/dist-packages/keras/backend/tensorflow_backend.py:4267: The name tf.nn.max_pool is deprecated. Please use tf.nn.max_pool2d instead.\n",
            "\n",
            "WARNING:tensorflow:From /usr/local/lib/python3.6/dist-packages/keras/backend/tensorflow_backend.py:148: The name tf.placeholder_with_default is deprecated. Please use tf.compat.v1.placeholder_with_default instead.\n",
            "\n",
            "WARNING:tensorflow:From /usr/local/lib/python3.6/dist-packages/keras/backend/tensorflow_backend.py:3733: calling dropout (from tensorflow.python.ops.nn_ops) with keep_prob is deprecated and will be removed in a future version.\n",
            "Instructions for updating:\n",
            "Please use `rate` instead of `keep_prob`. Rate should be set to `rate = 1 - keep_prob`.\n",
            "WARNING:tensorflow:From /usr/local/lib/python3.6/dist-packages/keras/optimizers.py:793: The name tf.train.Optimizer is deprecated. Please use tf.compat.v1.train.Optimizer instead.\n",
            "\n",
            "WARNING:tensorflow:From /usr/local/lib/python3.6/dist-packages/keras/backend/tensorflow_backend.py:3576: The name tf.log is deprecated. Please use tf.math.log instead.\n",
            "\n"
          ],
          "name": "stdout"
        }
      ]
    },
    {
      "cell_type": "code",
      "metadata": {
        "id": "SL-SAGk8E8zf",
        "colab_type": "code",
        "outputId": "dc43761b-54bc-4ba6-96e4-dd216c889157",
        "colab": {
          "base_uri": "https://localhost:8080/",
          "height": 904
        }
      },
      "source": [
        "model.fit(X_train, y_train, \n",
        "         batch_size = BATCH_SIZE,\n",
        "         epochs = EPOCHS_NUM,\n",
        "         verbose = 1,\n",
        "         validation_data = (X_test, y_test))"
      ],
      "execution_count": 0,
      "outputs": [
        {
          "output_type": "stream",
          "text": [
            "WARNING:tensorflow:From /usr/local/lib/python3.6/dist-packages/tensorflow_core/python/ops/math_grad.py:1424: where (from tensorflow.python.ops.array_ops) is deprecated and will be removed in a future version.\n",
            "Instructions for updating:\n",
            "Use tf.where in 2.0, which has the same broadcast rule as np.where\n",
            "WARNING:tensorflow:From /usr/local/lib/python3.6/dist-packages/keras/backend/tensorflow_backend.py:1033: The name tf.assign_add is deprecated. Please use tf.compat.v1.assign_add instead.\n",
            "\n",
            "WARNING:tensorflow:From /usr/local/lib/python3.6/dist-packages/keras/backend/tensorflow_backend.py:1020: The name tf.assign is deprecated. Please use tf.compat.v1.assign instead.\n",
            "\n",
            "WARNING:tensorflow:From /usr/local/lib/python3.6/dist-packages/keras/backend/tensorflow_backend.py:3005: The name tf.Session is deprecated. Please use tf.compat.v1.Session instead.\n",
            "\n",
            "Train on 60000 samples, validate on 10000 samples\n",
            "Epoch 1/15\n",
            "WARNING:tensorflow:From /usr/local/lib/python3.6/dist-packages/keras/backend/tensorflow_backend.py:190: The name tf.get_default_session is deprecated. Please use tf.compat.v1.get_default_session instead.\n",
            "\n",
            "WARNING:tensorflow:From /usr/local/lib/python3.6/dist-packages/keras/backend/tensorflow_backend.py:197: The name tf.ConfigProto is deprecated. Please use tf.compat.v1.ConfigProto instead.\n",
            "\n",
            "WARNING:tensorflow:From /usr/local/lib/python3.6/dist-packages/keras/backend/tensorflow_backend.py:207: The name tf.global_variables is deprecated. Please use tf.compat.v1.global_variables instead.\n",
            "\n",
            "WARNING:tensorflow:From /usr/local/lib/python3.6/dist-packages/keras/backend/tensorflow_backend.py:216: The name tf.is_variable_initialized is deprecated. Please use tf.compat.v1.is_variable_initialized instead.\n",
            "\n",
            "WARNING:tensorflow:From /usr/local/lib/python3.6/dist-packages/keras/backend/tensorflow_backend.py:223: The name tf.variables_initializer is deprecated. Please use tf.compat.v1.variables_initializer instead.\n",
            "\n",
            "60000/60000 [==============================] - 16s 271us/step - loss: 0.5371 - acc: 0.8116 - val_loss: 0.3361 - val_acc: 0.8787\n",
            "Epoch 2/15\n",
            "60000/60000 [==============================] - 9s 144us/step - loss: 0.3444 - acc: 0.8783 - val_loss: 0.2901 - val_acc: 0.8948\n",
            "Epoch 3/15\n",
            "60000/60000 [==============================] - 9s 143us/step - loss: 0.2971 - acc: 0.8939 - val_loss: 0.2574 - val_acc: 0.9049\n",
            "Epoch 4/15\n",
            "60000/60000 [==============================] - 9s 145us/step - loss: 0.2634 - acc: 0.9046 - val_loss: 0.2416 - val_acc: 0.9137\n",
            "Epoch 5/15\n",
            "60000/60000 [==============================] - 9s 150us/step - loss: 0.2381 - acc: 0.9137 - val_loss: 0.2224 - val_acc: 0.9203\n",
            "Epoch 6/15\n",
            "60000/60000 [==============================] - 9s 143us/step - loss: 0.2216 - acc: 0.9196 - val_loss: 0.2207 - val_acc: 0.9204\n",
            "Epoch 7/15\n",
            "60000/60000 [==============================] - 9s 144us/step - loss: 0.2016 - acc: 0.9265 - val_loss: 0.2186 - val_acc: 0.9203\n",
            "Epoch 8/15\n",
            "60000/60000 [==============================] - 9s 143us/step - loss: 0.1844 - acc: 0.9313 - val_loss: 0.2116 - val_acc: 0.9268\n",
            "Epoch 9/15\n",
            "60000/60000 [==============================] - 9s 145us/step - loss: 0.1764 - acc: 0.9333 - val_loss: 0.2132 - val_acc: 0.9253\n",
            "Epoch 10/15\n",
            "60000/60000 [==============================] - 9s 143us/step - loss: 0.1628 - acc: 0.9392 - val_loss: 0.2082 - val_acc: 0.9303\n",
            "Epoch 11/15\n",
            "60000/60000 [==============================] - 9s 144us/step - loss: 0.1525 - acc: 0.9434 - val_loss: 0.2033 - val_acc: 0.9291\n",
            "Epoch 12/15\n",
            "60000/60000 [==============================] - 9s 142us/step - loss: 0.1456 - acc: 0.9461 - val_loss: 0.2107 - val_acc: 0.9282\n",
            "Epoch 13/15\n",
            "60000/60000 [==============================] - 9s 144us/step - loss: 0.1358 - acc: 0.9506 - val_loss: 0.2111 - val_acc: 0.9288\n",
            "Epoch 14/15\n",
            "60000/60000 [==============================] - 9s 142us/step - loss: 0.1292 - acc: 0.9511 - val_loss: 0.2122 - val_acc: 0.9307\n",
            "Epoch 15/15\n",
            "60000/60000 [==============================] - 9s 144us/step - loss: 0.1217 - acc: 0.9539 - val_loss: 0.2176 - val_acc: 0.9304\n"
          ],
          "name": "stdout"
        },
        {
          "output_type": "execute_result",
          "data": {
            "text/plain": [
              "<keras.callbacks.History at 0x7fead3801b38>"
            ]
          },
          "metadata": {
            "tags": []
          },
          "execution_count": 13
        }
      ]
    },
    {
      "cell_type": "markdown",
      "metadata": {
        "id": "xublLXsPJmgA",
        "colab_type": "text"
      },
      "source": [
        "**Save results**"
      ]
    },
    {
      "cell_type": "code",
      "metadata": {
        "id": "yJMMoL5NGhM-",
        "colab_type": "code",
        "colab": {}
      },
      "source": [
        "model_json = model.to_json()\n",
        "\n",
        "with open(os.path.join(dir_path, 'mnist_fashion_model.json'), 'w') as json_file:\n",
        "  json_file.write(model_json)\n",
        "  \n",
        "model.save(os.path.join(dir_path, 'mnist_fashion_model.h5'))"
      ],
      "execution_count": 0,
      "outputs": []
    },
    {
      "cell_type": "markdown",
      "metadata": {
        "id": "AttRc-RMLC2z",
        "colab_type": "text"
      },
      "source": [
        "**Plots**"
      ]
    },
    {
      "cell_type": "code",
      "metadata": {
        "id": "Ls7npUutF0ZO",
        "colab_type": "code",
        "outputId": "6db6311d-efea-4a85-e6fd-425ddc2469e0",
        "colab": {
          "base_uri": "https://localhost:8080/",
          "height": 521
        }
      },
      "source": [
        "acc = model.history.history['acc']\n",
        "val_acc = model.history.history['val_acc']\n",
        "\n",
        "loss = model.history.history['loss']\n",
        "val_loss = model.history.history['val_loss']\n",
        "\n",
        "epochs = np.arange(1, EPOCHS_NUM + 1)\n",
        "\n",
        "plt.figure()\n",
        "plt.plot(epochs, acc, label = 'Training acc')\n",
        "plt.plot(epochs, val_acc, 'o', label = 'Validation acc')\n",
        "plt.legend()\n",
        "plt.show()\n",
        "\n",
        "plt.figure()\n",
        "plt.plot(epochs, loss, label = 'Training loss')\n",
        "plt.plot(epochs, val_loss, 'o', label = 'Validation loss')\n",
        "plt.legend()\n",
        "plt.show()"
      ],
      "execution_count": 0,
      "outputs": [
        {
          "output_type": "display_data",
          "data": {
            "image/png": "[encoded data removed]",
            "text/plain": [
              "<Figure size 432x288 with 1 Axes>"
            ]
          },
          "metadata": {
            "tags": []
          }
        },
        {
          "output_type": "display_data",
          "data": {
            "image/png": "[encoded data removed]",
            "text/plain": [
              "<Figure size 432x288 with 1 Axes>"
            ]
          },
          "metadata": {
            "tags": []
          }
        }
      ]
    },
    {
      "cell_type": "markdown",
      "metadata": {
        "id": "noSLAPIULKJB",
        "colab_type": "text"
      },
      "source": [
        "**Prediction example**"
      ]
    },
    {
      "cell_type": "code",
      "metadata": {
        "id": "VaOAzyr0RzRf",
        "colab_type": "code",
        "colab": {}
      },
      "source": [
        "fashion_dict = {0: 'T_shirt', \n",
        "                1: 'Trouser',\n",
        "                2: 'Pullover',\n",
        "                3: 'Dress',\n",
        "                4: 'Coat',\n",
        "                5: 'Sandal',\n",
        "                6: 'Shirt',\n",
        "                7: 'Sneaker',\n",
        "                8: 'Bag',\n",
        "                9: 'Ankle boot'}"
      ],
      "execution_count": 0,
      "outputs": []
    },
    {
      "cell_type": "code",
      "metadata": {
        "id": "qWmH5cy5ICX0",
        "colab_type": "code",
        "outputId": "c8fd2043-6e7b-42db-d3ed-15cb818c23e4",
        "colab": {
          "base_uri": "https://localhost:8080/",
          "height": 269
        }
      },
      "source": [
        "test_object = train_images[3, :, :]\n",
        "plt.imshow(test_object)\n",
        "plt.show()"
      ],
      "execution_count": 0,
      "outputs": [
        {
          "output_type": "display_data",
          "data": {
            "image/png": "[encoded data removed]",
            "text/plain": [
              "<Figure size 432x288 with 1 Axes>"
            ]
          },
          "metadata": {
            "tags": []
          }
        }
      ]
    },
    {
      "cell_type": "code",
      "metadata": {
        "id": "rSUDBlikGZig",
        "colab_type": "code",
        "outputId": "6a563b66-d558-4f07-867e-11f3cc9aafef",
        "colab": {
          "base_uri": "https://localhost:8080/",
          "height": 34
        }
      },
      "source": [
        "test_object = test_object.reshape(1, 28, 28, 1)\n",
        "predictions = model.predict(test_object)\n",
        "predict = fashion_dict[np.argmax(predictions)]\n",
        "print('Model prediction:', predict)"
      ],
      "execution_count": 0,
      "outputs": [
        {
          "output_type": "stream",
          "text": [
            "Model prediction: Dress\n"
          ],
          "name": "stdout"
        }
      ]
    },
    {
      "cell_type": "code",
      "metadata": {
        "id": "DKMZDuWjLQVX",
        "colab_type": "code",
        "colab": {}
      },
      "source": [
        ""
      ],
      "execution_count": 0,
      "outputs": []
    }
  ]
}